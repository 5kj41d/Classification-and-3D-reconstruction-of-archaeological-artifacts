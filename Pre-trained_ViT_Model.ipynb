{
 "cells": [
  {
   "cell_type": "code",
   "execution_count": 1,
   "id": "2eeb2e10-ad43-41f4-ad22-3a3c2062f511",
   "metadata": {},
   "outputs": [],
   "source": [
    "# https://pytorch.org/vision/main/models/vision_transformer.html\n",
    "# https://github.com/lucidrains/vit-pytorch\n",
    "# https://huggingface.co/docs/transformers/model_doc/vit \n",
    "from torchvision.models import VisionTransformer\n",
    "\n"
   ]
  },
  {
   "cell_type": "code",
   "execution_count": null,
   "id": "3492e8a9-6ff7-464c-943c-5e5181bf56f5",
   "metadata": {},
   "outputs": [],
   "source": []
  }
 ],
 "metadata": {
  "kernelspec": {
   "display_name": "Python 3 (ipykernel)",
   "language": "python",
   "name": "python3"
  },
  "language_info": {
   "codemirror_mode": {
    "name": "ipython",
    "version": 3
   },
   "file_extension": ".py",
   "mimetype": "text/x-python",
   "name": "python",
   "nbconvert_exporter": "python",
   "pygments_lexer": "ipython3",
   "version": "3.11.6"
  }
 },
 "nbformat": 4,
 "nbformat_minor": 5
}
