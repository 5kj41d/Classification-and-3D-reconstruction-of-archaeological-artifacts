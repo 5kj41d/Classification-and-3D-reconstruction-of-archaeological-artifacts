{
 "cells": [
  {
   "cell_type": "code",
   "execution_count": 7,
   "id": "0fefc466-e9b8-47cc-9ecd-edf960414c4c",
   "metadata": {
    "scrolled": true
   },
   "outputs": [],
   "source": [
    "#Check the enviroment that Jupyter is using:\n",
    "#import sys\n",
    "#sys.executable\n",
    "\n",
    "#NOTE on scikit-learn: Is used for typical Machine Learning Algorihms and not Deep-learning.\n",
    "\n",
    "import numpy\n",
    "#Machine learning library:\n",
    "from sklearn import datasets\n",
    "from sklearn.model_selection import train_test_split\n",
    "from sklearn.metrics import accuracy_score\n",
    "#Image processing library:\n",
    "from skimage import io, color\n",
    "'''\n",
    "Note on Tensorflow: Uses Nvidia drivers and CUDA for parallel execution: https://developer.nvidia.com/cuda-toolkit\n",
    "Else Tensorflow will fall back using the CPU.\n",
    "Also: We can use cuDNN for GPU acceleration: \n",
    "https://developer.nvidia.com/cudnn\n",
    "'''\n",
    "import tensorflow as tf\n",
    "from tensorflow.keras import datasets, layers, models\n",
    "#Plotting library:\n",
    "import matplotlib.pyplot as plt\n",
    "import csv"
   ]
  },
  {
   "cell_type": "code",
   "execution_count": 17,
   "id": "38548fa0-7a0b-4010-a272-03b46d9332c7",
   "metadata": {},
   "outputs": [
    {
     "data": {
      "text/plain": [
       "'\\nfor data_point in dataset:\\n    print(\"URL:\", data_point[\\'url\\'])\\n    print(\"Process:\", data_point[\\'process\\'])\\n'"
      ]
     },
     "execution_count": 17,
     "metadata": {},
     "output_type": "execute_result"
    }
   ],
   "source": [
    "dataset = [] \n",
    "\n",
    "#Open CSV file for reading and filter for evaluated artefacts: \n",
    "with open('DIME billeder.csv', mode='r', newline='') as csv_file:\n",
    "    csv_reader = csv.DictReader(csv_file, delimiter=';')\n",
    "\n",
    "    #Extract URL and Process fields:\n",
    "    for row in csv_reader:\n",
    "        process = row['process']\n",
    "        thesaurus = row['thesaurus']\n",
    "        #Filter for evaluated artefacts:\n",
    "        if process.lower() == 'dime.find.process.evaluated':\n",
    "            #Only url of coins:\n",
    "            if 'coin' in thesaurus:\n",
    "                url = row['URL']\n",
    "                data_point = {'url':url}\n",
    "                dataset.append(data_point)\n",
    "\n",
    "#Testing:\n",
    "'''\n",
    "for data_point in dataset:\n",
    "    print('URL:', data_point['url'])\n",
    "'''\n",
    "'''\n",
    "for data_point in dataset:\n",
    "    print(\"URL:\", data_point['url'])\n",
    "    print(\"Process:\", data_point['process'])\n",
    "''' "
   ]
  },
  {
   "cell_type": "code",
   "execution_count": null,
   "id": "5bc9b861-90a8-49b8-848a-7c1f4ac4f347",
   "metadata": {},
   "outputs": [],
   "source": []
  }
 ],
 "metadata": {
  "kernelspec": {
   "display_name": "Python 3 (ipykernel)",
   "language": "python",
   "name": "python3"
  },
  "language_info": {
   "codemirror_mode": {
    "name": "ipython",
    "version": 3
   },
   "file_extension": ".py",
   "mimetype": "text/x-python",
   "name": "python",
   "nbconvert_exporter": "python",
   "pygments_lexer": "ipython3",
   "version": "3.11.5"
  }
 },
 "nbformat": 4,
 "nbformat_minor": 5
}
