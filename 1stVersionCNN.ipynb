{
 "cells": [
  {
   "cell_type": "code",
   "execution_count": 2,
   "id": "0fefc466-e9b8-47cc-9ecd-edf960414c4c",
   "metadata": {},
   "outputs": [],
   "source": [
    "#Check the enviroment that Jupyter is using:\n",
    "#import sys\n",
    "#sys.executable\n",
    "import sklearn"
   ]
  },
  {
   "cell_type": "code",
   "execution_count": null,
   "id": "38548fa0-7a0b-4010-a272-03b46d9332c7",
   "metadata": {},
   "outputs": [],
   "source": []
  }
 ],
 "metadata": {
  "kernelspec": {
   "display_name": "Python 3 (ipykernel)",
   "language": "python",
   "name": "python3"
  },
  "language_info": {
   "codemirror_mode": {
    "name": "ipython",
    "version": 3
   },
   "file_extension": ".py",
   "mimetype": "text/x-python",
   "name": "python",
   "nbconvert_exporter": "python",
   "pygments_lexer": "ipython3",
   "version": "3.11.5"
  }
 },
 "nbformat": 4,
 "nbformat_minor": 5
}
