{
 "cells": [
  {
   "cell_type": "code",
   "execution_count": 1,
   "id": "0fefc466-e9b8-47cc-9ecd-edf960414c4c",
   "metadata": {
    "scrolled": true
   },
   "outputs": [
    {
     "name": "stderr",
     "output_type": "stream",
     "text": [
      "2023-09-21 14:13:13.091287: I tensorflow/tsl/cuda/cudart_stub.cc:28] Could not find cuda drivers on your machine, GPU will not be used.\n",
      "2023-09-21 14:13:13.126486: I tensorflow/tsl/cuda/cudart_stub.cc:28] Could not find cuda drivers on your machine, GPU will not be used.\n",
      "2023-09-21 14:13:13.127245: I tensorflow/core/platform/cpu_feature_guard.cc:182] This TensorFlow binary is optimized to use available CPU instructions in performance-critical operations.\n",
      "To enable the following instructions: AVX2 FMA, in other operations, rebuild TensorFlow with the appropriate compiler flags.\n",
      "2023-09-21 14:13:13.751660: W tensorflow/compiler/tf2tensorrt/utils/py_utils.cc:38] TF-TRT Warning: Could not find TensorRT\n"
     ]
    }
   ],
   "source": [
    "#Check the enviroment that Jupyter is using:\n",
    "#import sys\n",
    "#sys.executable\n",
    "\n",
    "#NOTE on scikit-learn: Is used for typical Machine Learning Algorihms and not Deep-learning.\n",
    "\n",
    "import numpy\n",
    "#Machine learning library:\n",
    "from sklearn import datasets\n",
    "from sklearn.model_selection import train_test_split\n",
    "from sklearn.metrics import accuracy_score\n",
    "#Image processing library:\n",
    "from skimage import io, color\n",
    "'''\n",
    "Note on Tensorflow: Uses Nvidia drivers and CUDA for parallel execution: https://developer.nvidia.com/cuda-toolkit\n",
    "Else Tensorflow will fall back using the CPU.\n",
    "Also: We can use cuDNN for GPU acceleration: \n",
    "https://developer.nvidia.com/cudnn\n",
    "'''\n",
    "import tensorflow as tf\n",
    "from tensorflow.keras import datasets, layers, models\n",
    "#Plotting library:\n",
    "import matplotlib.pyplot as plt\n",
    "#CSV handler: https://docs.python.org/3/library/csv.html \n",
    "import csv\n",
    "#Web handler: https://pypi.org/project/requests/\n",
    "import requests "
   ]
  },
  {
   "cell_type": "code",
   "execution_count": 2,
   "id": "38548fa0-7a0b-4010-a272-03b46d9332c7",
   "metadata": {},
   "outputs": [
    {
     "data": {
      "text/plain": [
       "'\\nfor data_point in dataset:\\n    print(\"URL:\", data_point[\\'url\\'])\\n    print(\"Process:\", data_point[\\'process\\'])\\n'"
      ]
     },
     "execution_count": 2,
     "metadata": {},
     "output_type": "execute_result"
    }
   ],
   "source": [
    "dataset = [] \n",
    "\n",
    "#Open CSV file for reading and filter for evaluated artefacts: \n",
    "with open('DIME billeder.csv', mode='r', newline='') as csv_file:\n",
    "    csv_reader = csv.DictReader(csv_file, delimiter=';')\n",
    "\n",
    "    #Extract URL and Process fields:\n",
    "    for row in csv_reader:\n",
    "        process = row['process']\n",
    "        thesaurus = row['thesaurus']\n",
    "        #Filter for evaluated artefacts:\n",
    "        if 'dime.find.process.evaluated' in process:\n",
    "            #Only url of coins:\n",
    "            if 'coin' in thesaurus:\n",
    "                url = row['URL']\n",
    "                data_point = {'url':url}\n",
    "                dataset.append(data_point)\n",
    "\n",
    "#Testing:\n",
    "'''\n",
    "for data_point in dataset:\n",
    "    print('URL:', data_point['url'])\n",
    "'''\n",
    "'''\n",
    "for data_point in dataset:\n",
    "    print(\"URL:\", data_point['url'])\n",
    "    print(\"Process:\", data_point['process'])\n",
    "''' "
   ]
  },
  {
   "cell_type": "code",
   "execution_count": 4,
   "id": "5bc9b861-90a8-49b8-848a-7c1f4ac4f347",
   "metadata": {},
   "outputs": [
    {
     "name": "stderr",
     "output_type": "stream",
     "text": [
      "IOPub data rate exceeded.\n",
      "The Jupyter server will temporarily stop sending output\n",
      "to the client in order to avoid crashing it.\n",
      "To change this limit, set the config variable\n",
      "`--ServerApp.iopub_data_rate_limit`.\n",
      "\n",
      "Current values:\n",
      "ServerApp.iopub_data_rate_limit=1000000.0 (bytes/sec)\n",
      "ServerApp.rate_limit_window=3.0 (secs)\n",
      "\n"
     ]
    }
   ],
   "source": [
    "'''\n",
    "Display the top 10 first images in our dataset. \n",
    "Test purpose:\n",
    "'''\n",
    "for image in dataset:\n",
    "    for x in range(10):\n",
    "        print(image['url'])"
   ]
  },
  {
   "cell_type": "code",
   "execution_count": null,
   "id": "700261a5-89ac-49fd-8738-f5c2b1b4bc63",
   "metadata": {},
   "outputs": [],
   "source": []
  }
 ],
 "metadata": {
  "kernelspec": {
   "display_name": "Python 3 (ipykernel)",
   "language": "python",
   "name": "python3"
  },
  "language_info": {
   "codemirror_mode": {
    "name": "ipython",
    "version": 3
   },
   "file_extension": ".py",
   "mimetype": "text/x-python",
   "name": "python",
   "nbconvert_exporter": "python",
   "pygments_lexer": "ipython3",
   "version": "3.11.5"
  }
 },
 "nbformat": 4,
 "nbformat_minor": 5
}
