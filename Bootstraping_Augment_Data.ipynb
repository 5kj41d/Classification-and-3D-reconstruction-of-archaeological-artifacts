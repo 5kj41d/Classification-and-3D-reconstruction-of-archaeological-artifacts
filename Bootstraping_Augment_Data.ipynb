{
 "cells": [
  {
   "cell_type": "code",
   "execution_count": 28,
   "id": "cf23271f-e679-46bd-8bbe-fd4d17bab2f2",
   "metadata": {},
   "outputs": [],
   "source": [
    "import os\n",
    "import torch\n",
    "import torchvision.transforms as transforms\n",
    "from torchvision.datasets import ImageFolder\n",
    "from torch.utils.data import DataLoader\n",
    "from PIL import Image\n",
    "\n",
    "source_dir = r'/run/media/magnusjsc/T7/Classification-and-3D-reconstruction-of-archaeological-artifacts_DATA/Splitted data by era - GAN project/test_iron'"
   ]
  },
  {
   "cell_type": "code",
   "execution_count": 29,
   "id": "47a64122-0dd3-4a57-8d0f-b0b592c5f46e",
   "metadata": {},
   "outputs": [],
   "source": [
    "# Bootstrap data - Random select images and copy them\n",
    "image_size = 128\n",
    "batch_size = 128\n",
    "workers = (4 * 1) # Multiply with number of GPUs available\n",
    "\n",
    "target_dir_boot = os.path.abspath(os.path.join(source_dir, \"..\", \"bootstrap_iron\"))\n",
    "os.makedirs(target_dir_boot, exist_ok = True)\n",
    "\n",
    "# TODO: FINISH\n",
    "\n",
    "\n",
    "print(\"Done bootstraping the images! :D\")"
   ]
  },
  {
   "cell_type": "code",
   "execution_count": 31,
   "id": "08f91f1b-7766-4015-9a5e-184ea2907228",
   "metadata": {},
   "outputs": [
    {
     "name": "stdout",
     "output_type": "stream",
     "text": [
      "torch.Size([128, 3, 128, 128])\n",
      "tensor([0, 0, 0, 0, 0, 0, 0, 0, 0, 0, 0, 0, 0, 0, 0, 0, 0, 0, 0, 0, 0, 0, 0, 0,\n",
      "        0, 0, 0, 0, 0, 0, 0, 0, 0, 0, 0, 0, 0, 0, 0, 0, 0, 0, 0, 0, 0, 0, 0, 0,\n",
      "        0, 0, 0, 0, 0, 0, 0, 0, 0, 0, 0, 0, 0, 0, 0, 0, 0, 0, 0, 0, 0, 0, 0, 0,\n",
      "        0, 0, 0, 0, 0, 0, 0, 0, 0, 0, 0, 0, 0, 0, 0, 0, 0, 0, 0, 0, 0, 0, 0, 0,\n",
      "        0, 0, 0, 0, 0, 0, 0, 0, 0, 0, 0, 0, 0, 0, 0, 0, 0, 0, 0, 0, 0, 0, 0, 0,\n",
      "        0, 0, 0, 0, 0, 0, 0, 0])\n",
      "{'iron': 0}\n"
     ]
    }
   ],
   "source": [
    "# Augment data - Augment the data and add them \n",
    "target_dir_aug = os.path.abspath(os.path.join(source_dir, \"..\", \"augmented_iron\"))\n",
    "os.makedirs(target_dir_aug, exist_ok = True)\n",
    "\n",
    "augment_transform = transforms.Compose([\n",
    "    transforms.Resize((image_size, image_size)),\n",
    "    transforms.RandomHorizontalFlip(),\n",
    "    transforms.RandomRotation(90), # 90 degree rotation\n",
    "    transforms.RandomAffine(\n",
    "        degrees = 0, \n",
    "        scale = (0.8, 1.5), # 0.8 is abit zoom out, 1.2 is abit zoom in and 1 is original\n",
    "        translate = None,\n",
    "        shear = None,\n",
    "        center = None, \n",
    "        fill = 0, \n",
    "        # interpolation=InterpolationMode.NEAREST\n",
    "    ), \n",
    "    transforms.ToTensor()\n",
    "])\n",
    "\n",
    "original_transform = transforms.Compose([\n",
    "    transforms.Resize((image_size, image_size)), \n",
    "    transforms.ToTensor(),  \n",
    "])\n",
    "\n",
    "# Load dataset\n",
    "dataset = ImageFolder(root = source_dir, transform = original_transform)\n",
    "\n",
    "def save_augmented_images(images, labels):\n",
    "    for i in range(len(images)):\n",
    "        # Convert tensor to PIL image\n",
    "        image = transforms.ToPILImage()(images[i])\n",
    "        image_name = f\"augmented_iron_{labels[i]}_{i}.jpg\"\n",
    "        image_path = os.path.join(target_dir_aug, image_name)\n",
    "        image.save(image_path)\n",
    "\n",
    "# The coins in the iron folder will get the label 0 by default since it the first folder \n",
    "augmented_data_loader = DataLoader(dataset, batch_size, shuffle = True, num_workers = workers)\n",
    "\n",
    "for images, labels in augmented_data_loader: \n",
    "    # Convert tensors to PIL images\n",
    "    pil_images = [transforms.ToPILImage()(image) for image in images]\n",
    "    # Apply augmentation\n",
    "    augmented_images = [augment_transform(image) for image in pil_images]\n",
    "    augmented_images = torch.stack(augmented_images)\n",
    "    # Save the augmented images \n",
    "    save_augmented_images(augmented_images, labels)\n",
    "\n",
    "\n",
    "\n",
    "print(\"Done augmenting the images! :D\")"
   ]
  },
  {
   "cell_type": "code",
   "execution_count": null,
   "id": "4fc71fb1-70cf-42ec-87c6-673f06f74f30",
   "metadata": {},
   "outputs": [],
   "source": []
  }
 ],
 "metadata": {
  "kernelspec": {
   "display_name": "Python 3 (ipykernel)",
   "language": "python",
   "name": "python3"
  },
  "language_info": {
   "codemirror_mode": {
    "name": "ipython",
    "version": 3
   },
   "file_extension": ".py",
   "mimetype": "text/x-python",
   "name": "python",
   "nbconvert_exporter": "python",
   "pygments_lexer": "ipython3",
   "version": "3.11.8"
  }
 },
 "nbformat": 4,
 "nbformat_minor": 5
}
