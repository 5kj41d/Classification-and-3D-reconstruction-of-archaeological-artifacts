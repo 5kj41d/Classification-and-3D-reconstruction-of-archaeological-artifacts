{
 "cells": [
  {
   "cell_type": "code",
   "execution_count": null,
   "id": "18232907-723c-4b11-832c-d104be91f1e7",
   "metadata": {},
   "outputs": [],
   "source": [
    "'''\n",
    "Steps:\n",
    "    1) Divide imput image into patches\n",
    "    2) Flatten the patches to be handles as tokens\n",
    "    3) Add classification token at the beginning\n",
    "    4) Feed tokens into the encoder\n",
    "    5) Number of output of the encoder is equal to the size of the input\n",
    "    6) \n",
    "'''"
   ]
  },
  {
   "cell_type": "code",
   "execution_count": 1,
   "id": "030dfa80-e905-4f8c-9ac6-a65069dfd9b5",
   "metadata": {},
   "outputs": [],
   "source": [
    "import torch\n",
    "import torch.nn as nn \n",
    "from torch.optim import Adam\n",
    "from torch.utils.data import DataLoader, Dataset\n",
    "from torchvision import models, transforms\n",
    "from sklearn.model_selection import train_test_split\n",
    "import numpy as np"
   ]
  },
  {
   "cell_type": "code",
   "execution_count": 2,
   "id": "3659850b-d7ed-4ed7-b422-45a8b493cf49",
   "metadata": {},
   "outputs": [],
   "source": [
    "# TODO: LOAD OUR DATA 256X256"
   ]
  },
  {
   "cell_type": "code",
   "execution_count": 3,
   "id": "c57dd319-3d77-430f-a343-88c33d16f980",
   "metadata": {},
   "outputs": [],
   "source": [
    "class VisionTransformerCoinImageClassifier(nn.Module):\n",
    "    def __init__(self, image_size, patch_size, num_classes, embedding_dim, num_heads, num_layers):\n",
    "        super(VisionTransformer, self).__init__()\n",
    "\n",
    "        # Calculate the number of patches\n",
    "        num_patches = (image_size // patch_size) ** 2 # **2 = ^2 due to X(W) and Y(H) position considered\n",
    "\n",
    "        # Path embedding layer - Sliding window - Non-overlapping image patches\n",
    "        self.patch_embedding = nn.Conv2d(3, embedding_dim, kernel_size=patch_size, stride=patch_size)\n",
    "\n",
    "\n",
    "num_casses = 2\n",
    "image_size = 256\n",
    "patch_size = 16\n"
   ]
  },
  {
   "cell_type": "code",
   "execution_count": null,
   "id": "069ad088-40d6-469a-8ae1-333dcccbaff5",
   "metadata": {},
   "outputs": [],
   "source": []
  }
 ],
 "metadata": {
  "kernelspec": {
   "display_name": "Python 3 (ipykernel)",
   "language": "python",
   "name": "python3"
  },
  "language_info": {
   "codemirror_mode": {
    "name": "ipython",
    "version": 3
   },
   "file_extension": ".py",
   "mimetype": "text/x-python",
   "name": "python",
   "nbconvert_exporter": "python",
   "pygments_lexer": "ipython3",
   "version": "3.11.5"
  }
 },
 "nbformat": 4,
 "nbformat_minor": 5
}
