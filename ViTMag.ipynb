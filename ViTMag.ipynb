{
 "cells": [
  {
   "cell_type": "code",
   "execution_count": null,
   "id": "18232907-723c-4b11-832c-d104be91f1e7",
   "metadata": {},
   "outputs": [],
   "source": [
    "'''\n",
    "Steps:\n",
    "    1) Divide imput image into patches\n",
    "    2) Flatten the patches to be handles as tokens\n",
    "    3) Add classification token at the beginning\n",
    "    4) Feed tokens into the encoder\n",
    "    5) Number of output of the encoder is equal to the size of the input\n",
    "    6) \n",
    "'''"
   ]
  },
  {
   "cell_type": "code",
   "execution_count": 3,
   "id": "030dfa80-e905-4f8c-9ac6-a65069dfd9b5",
   "metadata": {},
   "outputs": [],
   "source": [
    "import torch\n",
    "import torch.nn as nn \n",
    "from torch.optim import Adam\n",
    "from torch.utils.data import DataLoader, Dataset\n",
    "from torchvision import models, transforms\n",
    "from sklearn.model_selection import train_test_split\n",
    "import numpy as np"
   ]
  },
  {
   "cell_type": "code",
   "execution_count": null,
   "id": "3659850b-d7ed-4ed7-b422-45a8b493cf49",
   "metadata": {},
   "outputs": [],
   "source": [
    "# TODO: LOAD OUR DATA 256X256"
   ]
  },
  {
   "cell_type": "code",
   "execution_count": 7,
   "id": "a0321733-c486-4681-987e-83750c81e63c",
   "metadata": {},
   "outputs": [],
   "source": [
    "# Patch the input image - (Image Size / Patch Size) * (Image Size / Patch Size) \n",
    "# Patch size = the NxW size of each patch\n",
    "# Sliding window technique\n",
    "\n",
    "image_size = 256\n",
    "patch_size = 16 \n",
    "num_patches = (image_size // patch_size) * (image_size // patch_size)\n",
    "patches = []\n",
    "\n",
    "image = np.random.rand(image_size, image_size, 3) # Example random image\n",
    "\n",
    "# Non-overlapping regions\n",
    "def slidingWindow(image):\n",
    "    # i = patch index \n",
    "    for i in range(num_patches):\n",
    "        # x_start = the top left corner of each patch\n",
    "        x_start = (i % (image_size // patch_size)) * patch_size\n",
    "        # x_end = the bottom right corner\n",
    "        x_end = x_start + patch_size\n",
    "        # y_start = vertical top left corner \n",
    "        y_start = (i // (image_size // patch_size)) * patch_size\n",
    "        # y_end = vertical bottom corner\n",
    "        y_end = y_start + patch_size\n",
    "        patch = image[y_start:y_end, x_start:x_end]\n",
    "        patches.append(patch)\n",
    "\n",
    "slidingWindow(image)"
   ]
  },
  {
   "cell_type": "code",
   "execution_count": null,
   "id": "c57dd319-3d77-430f-a343-88c33d16f980",
   "metadata": {},
   "outputs": [],
   "source": []
  }
 ],
 "metadata": {
  "kernelspec": {
   "display_name": "Python 3 (ipykernel)",
   "language": "python",
   "name": "python3"
  },
  "language_info": {
   "codemirror_mode": {
    "name": "ipython",
    "version": 3
   },
   "file_extension": ".py",
   "mimetype": "text/x-python",
   "name": "python",
   "nbconvert_exporter": "python",
   "pygments_lexer": "ipython3",
   "version": "3.11.5"
  }
 },
 "nbformat": 4,
 "nbformat_minor": 5
}
