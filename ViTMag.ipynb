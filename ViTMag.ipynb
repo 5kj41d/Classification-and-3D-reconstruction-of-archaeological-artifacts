{
 "cells": [
  {
   "cell_type": "code",
   "execution_count": null,
   "id": "18232907-723c-4b11-832c-d104be91f1e7",
   "metadata": {},
   "outputs": [],
   "source": [
    "'''\n",
    "Steps:\n",
    "    1) Divide imput image into patches\n",
    "    2) Flatten the patches to be handles as tokens\n",
    "    3) Add classification token at the beginning\n",
    "    4) Feed tokens into the encoder\n",
    "    5) Number of output of the encoder is equal to the size of the input\n",
    "    6) \n",
    "'''"
   ]
  },
  {
   "cell_type": "code",
   "execution_count": 5,
   "id": "030dfa80-e905-4f8c-9ac6-a65069dfd9b5",
   "metadata": {},
   "outputs": [],
   "source": [
    "import torch\n",
    "import torch.nn as nn \n",
    "from torch.optim import Adam\n",
    "from torch.utils.data import DataLoader, Dataset\n",
    "from torchvision import models, transforms\n",
    "from sklearn.model_selection import train_test_split\n",
    "import numpy as np\n",
    "from torchsummary import summary"
   ]
  },
  {
   "cell_type": "code",
   "execution_count": 6,
   "id": "3659850b-d7ed-4ed7-b422-45a8b493cf49",
   "metadata": {},
   "outputs": [],
   "source": [
    "# TODO: LOAD OUR DATA 256X256"
   ]
  },
  {
   "cell_type": "code",
   "execution_count": 11,
   "id": "c57dd319-3d77-430f-a343-88c33d16f980",
   "metadata": {},
   "outputs": [
    {
     "name": "stdout",
     "output_type": "stream",
     "text": [
      "Hello PE\n",
      "Hello encoder\n",
      "Hello decoder first layer\n",
      "Hello encoder\n"
     ]
    }
   ],
   "source": [
    "# https://pytorch.org/docs/stable/generated/torch.nn.Transformer.html\n",
    "\n",
    "class VisionTransformerCoinImageClassifier(nn.Module):\n",
    "    def __init__(self, \n",
    "                 d_model, \n",
    "                 nhead, \n",
    "                 num_encoder_layers, \n",
    "                 num_decoder_layers, \n",
    "                 dim_feedforward, \n",
    "                 activation, \n",
    "                 norm_first, \n",
    "                 patch_size, \n",
    "                 image_size, \n",
    "                 num_classes\n",
    "                ):\n",
    "        super(VisionTransformerCoinImageClassifier, self).__init__()\n",
    "\n",
    "        # Calculate the number of patches\n",
    "        num_patches = (image_size // patch_size) ** 2 # **2 = ^2 due to X(W) and Y(H) position considered\n",
    "\n",
    "        # Path embedding layer - Sliding window - Non-overlapping image patches\n",
    "        self.patch_embedding = nn.Conv2d(3, d_model, kernel_size=patch_size, stride=patch_size)\n",
    "\n",
    "        # Positional Encoding - Fixed positional encoding\n",
    "        self._generate_positional_encoding()\n",
    "        \n",
    "        # Encoder - Multihead Attention, FFN and Layer Normalization \n",
    "        self._build_encoder()\n",
    "\n",
    "        # Decoder first layer - Masked Multihead\n",
    "        self._build_decoder_first_layer()\n",
    "\n",
    "        # Decoder - Multihead Attention, FFN and Layer Normalization\n",
    "        self._build_encoder()\n",
    "    \n",
    "        # Classification - Linear and Softmax\n",
    "\n",
    "    def _generate_positional_encoding(self):\n",
    "        print('Hello PE')\n",
    "\n",
    "    def _build_encoder(self):\n",
    "        print('Hello encoder')\n",
    "        \n",
    "    \n",
    "    def _build_decoder_first_layer(self):\n",
    "        print('Hello decoder first layer')\n",
    "    \n",
    "    def _build_decoder(self):\n",
    "        print('Hello decoder')\n",
    "    \n",
    "\n",
    "d_model = 65536\n",
    "nhead = 8\n",
    "num_encoder_layers = 6\n",
    "num_decoder_layers = 6 \n",
    "num_classes = 2 \n",
    "norm_first = False \n",
    "patch_size = 16 \n",
    "image_size = 256 # Square it for true size \n",
    "activation = 'relu'\n",
    "dim_feedforward = 2048\n",
    "\n",
    "model = VisionTransformerCoinImageClassifier(d_model=d_model, \n",
    "                                             nhead=nhead, \n",
    "                                             num_decoder_layers=num_encoder_layers, \n",
    "                                             num_encoder_layers=num_decoder_layers, \n",
    "                                             dim_feedforward=dim_feedforward, \n",
    "                                             activation=activation, \n",
    "                                             norm_first=norm_first,\n",
    "                                             patch_size=patch_size,\n",
    "                                             image_size=image_size,\n",
    "                                             num_classes=num_classes\n",
    "                                            )"
   ]
  },
  {
   "cell_type": "code",
   "execution_count": null,
   "id": "069ad088-40d6-469a-8ae1-333dcccbaff5",
   "metadata": {},
   "outputs": [],
   "source": []
  }
 ],
 "metadata": {
  "kernelspec": {
   "display_name": "Python 3 (ipykernel)",
   "language": "python",
   "name": "python3"
  },
  "language_info": {
   "codemirror_mode": {
    "name": "ipython",
    "version": 3
   },
   "file_extension": ".py",
   "mimetype": "text/x-python",
   "name": "python",
   "nbconvert_exporter": "python",
   "pygments_lexer": "ipython3",
   "version": "3.11.5"
  }
 },
 "nbformat": 4,
 "nbformat_minor": 5
}
