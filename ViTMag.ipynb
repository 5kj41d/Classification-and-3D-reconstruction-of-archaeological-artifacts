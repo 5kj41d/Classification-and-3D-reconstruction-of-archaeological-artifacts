{
 "cells": [
  {
   "cell_type": "code",
   "execution_count": null,
   "id": "18232907-723c-4b11-832c-d104be91f1e7",
   "metadata": {},
   "outputs": [],
   "source": [
    "'''\n",
    "Steps:\n",
    "    1) Divide imput image into patches\n",
    "    2) Flatten the patches to be handles as tokens\n",
    "    3) Add classification token at the beginning\n",
    "    4) Feed tokens into the encoder\n",
    "    5) Number of output of the encoder is equal to the size of the input\n",
    "    6) \n",
    "'''"
   ]
  },
  {
   "cell_type": "code",
   "execution_count": 2,
   "id": "030dfa80-e905-4f8c-9ac6-a65069dfd9b5",
   "metadata": {},
   "outputs": [],
   "source": [
    "import torch\n",
    "import torch.nn as nn \n",
    "from torch.optim import Adam\n",
    "from torch.utils.data import DataLoader, Dataset\n",
    "from torchvision import models, transforms\n",
    "from sklearn.model_selection import train_test_split\n",
    "import numpy as np"
   ]
  },
  {
   "cell_type": "code",
   "execution_count": null,
   "id": "a0321733-c486-4681-987e-83750c81e63c",
   "metadata": {},
   "outputs": [],
   "source": [
    "# Patch the input image - (Image Size / Patch Size) * (Image Size / Patch Size) \n",
    "# Patch size = the NxW size of each patch\n",
    "# Sliding window technique\n",
    "\n",
    "image_size = 256\n",
    "patch_size = 16 \n",
    "num_patches = (image_size // patch_size) * (image_size // patch_size)\n",
    "\n",
    "image = np.random.rand(image_size, image_size, 3) # Example random image\n",
    "\n",
    "def slidingWindow():\n",
    "    x_start = 0\n",
    "    # CONTINUE HERE!"
   ]
  }
 ],
 "metadata": {
  "kernelspec": {
   "display_name": "Python 3 (ipykernel)",
   "language": "python",
   "name": "python3"
  },
  "language_info": {
   "codemirror_mode": {
    "name": "ipython",
    "version": 3
   },
   "file_extension": ".py",
   "mimetype": "text/x-python",
   "name": "python",
   "nbconvert_exporter": "python",
   "pygments_lexer": "ipython3",
   "version": "3.11.5"
  }
 },
 "nbformat": 4,
 "nbformat_minor": 5
}
